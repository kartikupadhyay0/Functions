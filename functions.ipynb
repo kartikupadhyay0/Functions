{
 "cells": [
  {
   "cell_type": "markdown",
   "metadata": {},
   "source": [
    "                                                      Theory Questions:"
   ]
  },
  {
   "cell_type": "markdown",
   "metadata": {},
   "source": [
    " Q1. What is the difference between a function and a method in Python?\n",
    " \n",
    " Ans:In Python, the terms \"function\" and \"method\" both refer to callable objects that can perform operations, but they have key differences:\n",
    "\n",
    "Function: A function is defined independently and can be called on its own. It does not belong to any object or class. Functions are created using the def keyword.\n",
    "\n",
    "Example:"
   ]
  },
  {
   "cell_type": "code",
   "execution_count": null,
   "metadata": {},
   "outputs": [],
   "source": [
    "def greet(name):\n",
    "    return f\"Hello, {name}!\"\n",
    "\n",
    "print(greet(\"Alice\"))  # Output: Hello, Alice!\n"
   ]
  },
  {
   "cell_type": "markdown",
   "metadata": {},
   "source": [
    "Method: A method is a function that is associated with an object (or class). Methods are defined within a class and can operate on the data contained within that class. They are called on an instance of the class.\n",
    "\n",
    "Example:"
   ]
  },
  {
   "cell_type": "code",
   "execution_count": null,
   "metadata": {},
   "outputs": [],
   "source": [
    "class Greeter:\n",
    "    def greet(self, name):\n",
    "        return f\"Hello, {name}!\"\n",
    "\n",
    "greeter = Greeter()\n",
    "print(greeter.greet(\"Alice\"))  # Output: Hello, Alice!\n"
   ]
  },
  {
   "cell_type": "markdown",
   "metadata": {},
   "source": [
    "In summary, the main difference is that functions are standalone, while methods are functions that are tied to class instances."
   ]
  },
  {
   "cell_type": "markdown",
   "metadata": {},
   "source": [
    " Q2. Explain the concept of function arguments and parameters in Python.\n",
    "\n",
    " Ans: In Python, parameters and arguments are closely related concepts used in function definitions and function calls.\n",
    "\n",
    "Parameters are the variables listed in a function's definition. They act as placeholders for the values that will be passed to the function when it is called.\n",
    "\n",
    "Arguments are the actual values that you pass to the function when you call it.\n",
    "\n",
    "Here’s a simple example to illustrate these concepts:\n",
    "\n"
   ]
  },
  {
   "cell_type": "code",
   "execution_count": null,
   "metadata": {},
   "outputs": [],
   "source": [
    "def multiply(x, y):  # x and y are parameters\n",
    "    return x * y\n",
    "\n",
    "result = multiply(5, 3)  # 5 and 3 are arguments\n",
    "print(result)  # Output: 15\n"
   ]
  },
  {
   "cell_type": "markdown",
   "metadata": {},
   "source": [
    "In this example:\n",
    "\n",
    "x and y are the parameters of the multiply function.\n",
    "When calling multiply(5, 3), the values 5 and 3 are the arguments passed to the function. The function then uses these arguments to perform the multiplication and return the result."
   ]
  },
  {
   "cell_type": "markdown",
   "metadata": {},
   "source": [
    "Q3. What are the different ways to define and call a function in Python?\n",
    "\n",
    "Ans: In Python, there are several ways to define and call functions. Here’s a summary with examples:\n",
    "\n",
    "1. Basic Function Definition and Call\n",
    "You define a function using the def keyword and call it by its name."
   ]
  },
  {
   "cell_type": "code",
   "execution_count": null,
   "metadata": {},
   "outputs": [],
   "source": [
    "def greet(name):\n",
    "    return f\"Hello, {name}!\"\n",
    "\n",
    "# Call the function\n",
    "print(greet(\"Alice\"))  # Output: Hello, Alice!\n"
   ]
  },
  {
   "cell_type": "markdown",
   "metadata": {},
   "source": [
    "2. Function with Default Parameters\n",
    "You can set default values for parameters."
   ]
  },
  {
   "cell_type": "code",
   "execution_count": null,
   "metadata": {},
   "outputs": [],
   "source": [
    "def greet(name=\"Guest\"):\n",
    "    return f\"Hello, {name}!\"\n",
    "\n",
    "print(greet())         # Output: Hello, Guest!\n",
    "print(greet(\"Bob\"))    # Output: Hello, Bob!\n"
   ]
  },
  {
   "cell_type": "markdown",
   "metadata": {},
   "source": [
    "3. Function with Variable-Length Arguments\n",
    "Using *args for non-keyword arguments and **kwargs for keyword arguments."
   ]
  },
  {
   "cell_type": "code",
   "execution_count": null,
   "metadata": {},
   "outputs": [],
   "source": [
    "def add(*numbers):\n",
    "    return sum(numbers)\n",
    "\n",
    "print(add(1, 2, 3))  # Output: 6"
   ]
  },
  {
   "cell_type": "markdown",
   "metadata": {},
   "source": [
    "4. Lambda Functions\n",
    "Anonymous functions using the lambda keyword."
   ]
  },
  {
   "cell_type": "code",
   "execution_count": null,
   "metadata": {},
   "outputs": [],
   "source": [
    "square = lambda x: x ** 2\n",
    "print(square(4))  # Output: 16\n"
   ]
  },
  {
   "cell_type": "markdown",
   "metadata": {},
   "source": [
    "5. Nested Functions\n",
    "Defining a function inside another function."
   ]
  },
  {
   "cell_type": "code",
   "execution_count": null,
   "metadata": {},
   "outputs": [],
   "source": [
    "def outer_function(text):\n",
    "    def inner_function():\n",
    "        return f\"Inner: {text}\"\n",
    "    \n",
    "    return inner_function()\n",
    "\n",
    "print(outer_function(\"Hello\"))  # Output: Inner: Hello\n"
   ]
  },
  {
   "cell_type": "markdown",
   "metadata": {},
   "source": [
    "Q4. What is the purpose of the `return` statement in a Python function?\n",
    "\n",
    "Ans: The return statement in a Python function is used to exit the function and send a value back to the caller. This allows you to use the result of the function in other parts of your code. If no value is specified, None is returned by default.\n",
    "\n",
    "Example:\n",
    "Here's a simple function that adds two numbers and returns the result:"
   ]
  },
  {
   "cell_type": "code",
   "execution_count": null,
   "metadata": {},
   "outputs": [],
   "source": [
    "def add_numbers(a, b):\n",
    "    return a + b\n",
    "\n",
    "result = add_numbers(5, 3)\n",
    "print(result)  # Output: 8\n"
   ]
  },
  {
   "cell_type": "markdown",
   "metadata": {},
   "source": [
    "In this example, the add_numbers function takes two parameters, adds them, and returns the sum. The result is then printed, showing 8."
   ]
  },
  {
   "cell_type": "markdown",
   "metadata": {},
   "source": [
    " Q5. What are iterators in Python and how do they differ from iterables?\n",
    "\n",
    " Ans: In Python, iterators and iterables are related concepts, but they serve different purposes:\n",
    "\n",
    "Iterable: An iterable is any Python object that can return its elements one at a time, allowing it to be looped over in a for-loop. Common examples include lists, tuples, and strings. An iterable implements the __iter__() method, which returns an iterator.\n",
    "\n",
    "Iterator: An iterator is an object that represents a stream of data. It produces the next value when the __next__() method is called. An iterator keeps track of its current position and knows when there are no more items to return, raising a StopIteration exception.\n",
    "\n",
    "Example:\n",
    "Here's an example demonstrating both concepts:"
   ]
  },
  {
   "cell_type": "code",
   "execution_count": null,
   "metadata": {},
   "outputs": [],
   "source": [
    "# Example iterable\n",
    "my_list = [1, 2, 3]\n",
    "\n",
    "# Get an iterator from the iterable\n",
    "my_iterator = iter(my_list)\n",
    "\n",
    "# Use the iterator to get elements\n",
    "print(next(my_iterator))  # Output: 1\n",
    "print(next(my_iterator))  # Output: 2\n",
    "print(next(my_iterator))  # Output: 3\n",
    "\n",
    "# The next call will raise StopIteration\n",
    "# print(next(my_iterator))  # Uncommenting this line would raise an error\n"
   ]
  },
  {
   "cell_type": "markdown",
   "metadata": {},
   "source": [
    "In this example:\n",
    "\n",
    "my_list is an iterable because you can loop over it.\n",
    "my_iterator is an iterator created from my_list, and you can call next() on it to retrieve items one by one. When all items are exhausted, it raises a StopIteration exception."
   ]
  },
  {
   "cell_type": "markdown",
   "metadata": {},
   "source": [
    " Q6. Explain the concept of generators in Python and how they are defined.\n",
    "\n",
    " Ans: Generators in Python are a type of iterable, similar to lists or tuples, but they generate items on-the-fly and are more memory efficient. They are defined using a function that contains one or more yield statements instead of return. When a generator function is called, it returns a generator object without executing the function body immediately. Each time next() is called on the generator, execution resumes until it hits the next yield, returning that value.\n",
    "\n",
    "Key Benefits of Generators:\n",
    "Memory Efficiency: Generators do not store all values in memory; they produce items one at a time.\n",
    "Lazy Evaluation: Values are computed only as needed, which can be more efficient for large datasets.\n",
    "Example:\n",
    "Here's an example of a simple generator function that generates the first n Fibonacci numbers:"
   ]
  },
  {
   "cell_type": "code",
   "execution_count": null,
   "metadata": {},
   "outputs": [],
   "source": [
    "def fibonacci(n):\n",
    "    a, b = 0, 1\n",
    "    for _ in range(n):\n",
    "        yield a\n",
    "        a, b = b, a + b\n",
    "\n",
    "# Using the generator\n",
    "fib_sequence = fibonacci(5)\n",
    "for number in fib_sequence:\n",
    "    print(number)\n"
   ]
  },
  {
   "cell_type": "markdown",
   "metadata": {},
   "source": [
    "In this example:\n",
    "\n",
    "The fibonacci function is defined as a generator. It uses yield to return the next Fibonacci number.\n",
    "When called with fibonacci(5), it produces the first five Fibonacci numbers, and each call to next() (implicitly done in the loop) continues execution until the next yield. This allows for efficient generation of values without storing all of them at once.\n",
    "\n",
    "\n"
   ]
  },
  {
   "cell_type": "markdown",
   "metadata": {},
   "source": [
    " Q7. What are the advantages of using generators over regular functions?\n",
    "\n",
    " Ans: Generators offer several advantages over regular functions, especially when dealing with large datasets or streams of data. Here are some key benefits:\n",
    "\n",
    "Advantages of Generators:\n",
    "Memory Efficiency: Generators produce items one at a time and do not store the entire dataset in memory, making them suitable for large data sets.\n",
    "\n",
    "Lazy Evaluation: Values are computed only when requested. This can lead to performance improvements, especially if not all values are needed.\n",
    "\n",
    "Simplified Code: Generators can often replace complex iterator classes, making the code cleaner and easier to read.\n",
    "\n",
    "State Retention: Generators maintain their state between calls, which can simplify logic that requires retaining information across iterations.\n",
    "\n",
    "Example:\n",
    "Consider a scenario where we want to read a large file line by line. Using a generator can be much more efficient than reading the entire file into memory.\n",
    "\n",
    "Using a Regular Function:\n"
   ]
  },
  {
   "cell_type": "code",
   "execution_count": null,
   "metadata": {},
   "outputs": [],
   "source": [
    "def read_large_file(filename):\n",
    "    with open(filename) as f:\n",
    "        lines = f.readlines()  # Reads the entire file into memory\n",
    "    return lines\n",
    "\n",
    "# Usage\n",
    "lines = read_large_file('large_file.txt')\n",
    "for line in lines:\n",
    "    print(line)\n"
   ]
  },
  {
   "cell_type": "markdown",
   "metadata": {},
   "source": [
    "Using a Generator:\n"
   ]
  },
  {
   "cell_type": "code",
   "execution_count": null,
   "metadata": {},
   "outputs": [],
   "source": [
    "def read_large_file_gen(filename):\n",
    "    with open(filename) as f:\n",
    "        for line in f:\n",
    "            yield line  # Yields one line at a time\n",
    "\n",
    "# Usage\n",
    "for line in read_large_file_gen('large_file.txt'):\n",
    "    print(line)\n"
   ]
  },
  {
   "cell_type": "markdown",
   "metadata": {},
   "source": [
    "Key Difference:\n",
    "The first approach (read_large_file) reads the entire file into memory, which can lead to high memory usage for large files.\n",
    "The second approach (read_large_file_gen) reads the file line by line, yielding each line as needed, which is much more memory-efficient and allows for handling very large files without overwhelming the system.\n",
    "This illustrates how generators can provide significant advantages in terms of resource management and code simplicity."
   ]
  },
  {
   "cell_type": "markdown",
   "metadata": {},
   "source": [
    "Q8. What is a lambda function in Python and when is it typically used?\n",
    "\n",
    "Ans:A lambda function in Python is a small, anonymous function defined using the lambda keyword. Unlike regular functions defined with def, lambda functions can take any number of arguments but can only contain a single expression. They are often used for short, simple operations where defining a full function would be unnecessary.\n",
    "\n",
    "Syntax:"
   ]
  },
  {
   "cell_type": "code",
   "execution_count": null,
   "metadata": {},
   "outputs": [],
   "source": [
    "lambda arguments: expression\n"
   ]
  },
  {
   "cell_type": "markdown",
   "metadata": {},
   "source": [
    "Typical Uses:\n",
    "Short-lived Functions: Useful for simple tasks where a full function is not needed.\n",
    "Higher-Order Functions: Commonly used with functions like map(), filter(), and sorted().\n",
    "Custom Sorting: To specify custom sorting criteria without needing a separate function definition.\n",
    "Example:\n",
    "Here’s an example of using a lambda function with filter() to find even numbers in a list:"
   ]
  },
  {
   "cell_type": "code",
   "execution_count": null,
   "metadata": {},
   "outputs": [],
   "source": [
    "numbers = [1, 2, 3, 4, 5, 6]\n",
    "even_numbers = list(filter(lambda x: x % 2 == 0, numbers))\n",
    "print(even_numbers)  # Output: [2, 4, 6]\n"
   ]
  },
  {
   "cell_type": "markdown",
   "metadata": {},
   "source": [
    "Explanation:\n",
    "In this example, lambda x: x % 2 == 0 defines a lambda function that checks if a number is even.\n",
    "The filter() function applies this lambda to each item in the numbers list, returning only the items for which the lambda function returns True.\n",
    "When to Use:\n",
    "Use lambda functions for quick, simple operations, especially when passing functions as arguments. For more complex logic or improved readability, it’s generally better to define a full function using def."
   ]
  },
  {
   "cell_type": "markdown",
   "metadata": {},
   "source": [
    "Q9. Explain the purpose and usage of the `map()` function in Python.\n",
    "\n",
    "Ans:The map() function in Python is used to apply a specified function to all items in an iterable (like a list or tuple) and returns an iterator that produces the results. It's particularly useful for transforming data without needing an explicit loop.\n",
    "\n",
    "Purpose:\n",
    "To apply a function to every item in an iterable.\n",
    "To simplify code and improve readability by avoiding explicit loops.\n",
    "Syntax:"
   ]
  },
  {
   "cell_type": "code",
   "execution_count": null,
   "metadata": {},
   "outputs": [],
   "source": [
    "map(function, iterable)\n"
   ]
  },
  {
   "cell_type": "markdown",
   "metadata": {},
   "source": [
    "function: A function that defines the operation to be applied to each element.\n",
    "iterable: The iterable (like a list or tuple) whose elements will be processed.\n",
    "Example:\n",
    "Here’s an example of using map() to convert a list of temperatures in Celsius to Fahrenheit:"
   ]
  },
  {
   "cell_type": "code",
   "execution_count": null,
   "metadata": {},
   "outputs": [],
   "source": [
    "def celsius_to_fahrenheit(celsius):\n",
    "    return (celsius * 9/5) + 32\n",
    "\n",
    "celsius_temps = [0, 20, 37, 100]\n",
    "fahrenheit_temps = list(map(celsius_to_fahrenheit, celsius_temps))\n",
    "\n",
    "print(fahrenheit_temps)  # Output: [32.0, 68.0, 98.6, 212.0]\n"
   ]
  },
  {
   "cell_type": "markdown",
   "metadata": {},
   "source": [
    "Explanation:\n",
    "The celsius_to_fahrenheit function converts a Celsius temperature to Fahrenheit.\n",
    "The map() function applies this conversion function to each item in the celsius_temps list.\n",
    "The result is converted to a list, giving the temperatures in Fahrenheit.\n",
    "When to Use:\n",
    "Use map() when you want to apply a function to each item in an iterable and need a concise way to achieve this, especially when working with transformations or calculations on data.\n",
    "\n",
    "\n",
    "\n"
   ]
  },
  {
   "cell_type": "markdown",
   "metadata": {},
   "source": [
    "Q10. What is the difference between `map()`, `reduce()`, and `filter()` functions in Python?\n",
    "\n",
    "Ans:The map(), reduce(), and filter() functions in Python are all used for processing iterables, but they serve different purposes and have distinct behaviors.\n",
    "\n",
    "1. map()\n",
    "Purpose: Applies a function to each item in an iterable and returns an iterator of the results.\n",
    "Usage: Transform data by applying a specific operation to every element.\n",
    "Example:\n",
    "\n"
   ]
  },
  {
   "cell_type": "code",
   "execution_count": null,
   "metadata": {},
   "outputs": [],
   "source": [
    "def square(x):\n",
    "    return x ** 2\n",
    "\n",
    "numbers = [1, 2, 3, 4]\n",
    "squared_numbers = list(map(square, numbers))\n",
    "print(squared_numbers)  # Output: [1, 4, 9, 16]\n"
   ]
  },
  {
   "cell_type": "markdown",
   "metadata": {},
   "source": [
    "2. filter()\n",
    "Purpose: Filters elements from an iterable based on a function that returns True or False, returning only the elements that meet the condition.\n",
    "Usage: Extract a subset of data based on a condition.\n",
    "Example:"
   ]
  },
  {
   "cell_type": "code",
   "execution_count": null,
   "metadata": {},
   "outputs": [],
   "source": [
    "def is_even(x):\n",
    "    return x % 2 == 0\n",
    "\n",
    "numbers = [1, 2, 3, 4, 5]\n",
    "even_numbers = list(filter(is_even, numbers))\n",
    "print(even_numbers)  # Output: [2, 4]\n"
   ]
  },
  {
   "cell_type": "markdown",
   "metadata": {},
   "source": [
    "3. reduce()\n",
    "Purpose: Applies a binary function cumulatively to the items of an iterable, reducing it to a single cumulative value.\n",
    "Usage: Aggregate data by combining items in some way.\n",
    "Example:"
   ]
  },
  {
   "cell_type": "code",
   "execution_count": null,
   "metadata": {},
   "outputs": [],
   "source": [
    "from functools import reduce\n",
    "\n",
    "def add(x, y):\n",
    "    return x + y\n",
    "\n",
    "numbers = [1, 2, 3, 4]\n",
    "sum_result = reduce(add, numbers)\n",
    "print(sum_result)  # Output: 10\n"
   ]
  },
  {
   "cell_type": "markdown",
   "metadata": {},
   "source": [
    "Summary:\n",
    "map() transforms each element of an iterable.\n",
    "filter() selects elements based on a condition.\n",
    "reduce() aggregates elements into a single result.\n",
    "Each function has its use case, making it easier to process collections of data in a functional programming style."
   ]
  },
  {
   "cell_type": "markdown",
   "metadata": {},
   "source": [
    " \n",
    "                                                               Practical Questions:"
   ]
  },
  {
   "cell_type": "markdown",
   "metadata": {},
   "source": [
    "Q1. Write a Python function that takes a list of numbers as input and returns the sum of all even numbers in the list.\n",
    "\n",
    "Ans: Here's a Python function that takes a list of numbers as input and returns the sum of all even numbers in that list:"
   ]
  },
  {
   "cell_type": "code",
   "execution_count": null,
   "metadata": {},
   "outputs": [],
   "source": [
    "def sum_of_even_numbers(numbers):\n",
    "    return sum(num for num in numbers if num % 2 == 0)\n",
    "\n",
    "# Example usage\n",
    "numbers = [1, 2, 3, 4, 5, 6]\n",
    "result = sum_of_even_numbers(numbers)\n",
    "print(result)  # Output: 12\n"
   ]
  },
  {
   "cell_type": "markdown",
   "metadata": {},
   "source": [
    "Explanation:\n",
    "The function sum_of_even_numbers uses a generator expression to iterate through the numbers list.\n",
    "It checks each number to see if it is even (num % 2 == 0).\n",
    "The sum() function then calculates the total of all even numbers and returns that value.\n",
    "In the example provided, the even numbers are 2, 4, and 6, which sum to 12.\n",
    "\n",
    "\n",
    "\n"
   ]
  },
  {
   "cell_type": "markdown",
   "metadata": {},
   "source": [
    "Q2. Create a Python function that accepts a string and returns the reverse of that string.\n",
    "\n",
    "Ans:Here's a Python function that accepts a string and returns its reverse:"
   ]
  },
  {
   "cell_type": "code",
   "execution_count": null,
   "metadata": {},
   "outputs": [],
   "source": [
    "def reverse_string(s):\n",
    "    return s[::-1]\n",
    "\n",
    "# Example usage\n",
    "input_string = \"Hello, World!\"\n",
    "reversed_string = reverse_string(input_string)\n",
    "print(reversed_string)  # Output: !dlroW ,olleH\n"
   ]
  },
  {
   "cell_type": "markdown",
   "metadata": {},
   "source": [
    "Explanation:\n",
    "The function reverse_string takes a string s as input.\n",
    "It uses slicing (s[::-1]) to reverse the string.\n",
    "The reversed string is then returned.\n",
    "In the example provided, the input \"Hello, World!\" is reversed to produce \"!dlroW ,olleH\"."
   ]
  },
  {
   "cell_type": "markdown",
   "metadata": {},
   "source": [
    "Q3. Implement a Python function that takes a list of integers and returns a new list containing the squares of each number.\n",
    "\n",
    "Ans: Here’s a Python function that takes a list of integers and returns a new list containing the squares of each number:"
   ]
  },
  {
   "cell_type": "code",
   "execution_count": null,
   "metadata": {},
   "outputs": [],
   "source": [
    "def square_numbers(numbers):\n",
    "    return [num ** 2 for num in numbers]\n",
    "\n",
    "# Example usage\n",
    "input_list = [1, 2, 3, 4, 5]\n",
    "squared_list = square_numbers(input_list)\n",
    "print(squared_list)  # Output: [1, 4, 9, 16, 25]\n"
   ]
  },
  {
   "cell_type": "markdown",
   "metadata": {},
   "source": [
    "Explanation:\n",
    "The function square_numbers uses a list comprehension to iterate over the input list numbers.\n",
    "For each number, it calculates the square (num ** 2) and creates a new list with these squared values.\n",
    "The new list is returned.\n",
    "In the example provided, the input list [1, 2, 3, 4, 5] is squared to produce [1, 4, 9, 16, 25]."
   ]
  },
  {
   "cell_type": "markdown",
   "metadata": {},
   "source": [
    "Q4. Write a Python function that checks if a given number is prime or not from 1 to 200.\n",
    "\n",
    "Ans: Here’s a Python function that checks if a given number is prime and can handle numbers from 1 to 200:"
   ]
  },
  {
   "cell_type": "code",
   "execution_count": null,
   "metadata": {},
   "outputs": [],
   "source": [
    "def is_prime(num):\n",
    "    if num <= 1:\n",
    "        return False\n",
    "    for i in range(2, int(num ** 0.5) + 1):\n",
    "        if num % i == 0:\n",
    "            return False\n",
    "    return True\n",
    "\n",
    "# Example usage\n",
    "for number in range(1, 201):\n",
    "    if is_prime(number):\n",
    "        print(f\"{number} is a prime number.\")\n"
   ]
  },
  {
   "cell_type": "code",
   "execution_count": null,
   "metadata": {},
   "outputs": [],
   "source": [
    "Explanation:\n",
    "The function is_prime checks if a number num is prime.\n",
    "It first checks if the number is less than or equal to 1, in which case it returns False.\n",
    "It then checks for factors from 2 up to the square root of num. If any number divides num evenly, it returns False.\n",
    "If no factors are found, it returns True, indicating the number is prime.\n",
    "In the example usage, the function checks all numbers from 1 to 200 and prints which ones are prime."
   ]
  },
  {
   "cell_type": "markdown",
   "metadata": {},
   "source": [
    "Q5. Create an iterator class in Python that generates the Fibonacci sequence up to a specified number of terms.\n",
    "\n",
    "Ans: Here's an example of an iterator class in Python that generates the Fibonacci sequence up to a specified number of terms:"
   ]
  },
  {
   "cell_type": "code",
   "execution_count": null,
   "metadata": {},
   "outputs": [],
   "source": [
    "class FibonacciIterator:\n",
    "    def __init__(self, terms):\n",
    "        self.terms = terms\n",
    "        self.a, self.b = 0, 1\n",
    "        self.count = 0\n",
    "\n",
    "    def __iter__(self):\n",
    "        return self\n",
    "\n",
    "    def __next__(self):\n",
    "        if self.count < self.terms:\n",
    "            value = self.a\n",
    "            self.a, self.b = self.b, self.a + self.b  # Update to the next Fibonacci numbers\n",
    "            self.count += 1\n",
    "            return value\n",
    "        else:\n",
    "            raise StopIteration\n",
    "\n",
    "# Example usage\n",
    "fib = FibonacciIterator(10)  # Generate the first 10 Fibonacci numbers\n",
    "for number in fib:\n",
    "    print(number)\n"
   ]
  },
  {
   "cell_type": "markdown",
   "metadata": {},
   "source": [
    "Explanation:\n",
    "The FibonacciIterator class initializes with the number of terms (terms) to generate.\n",
    "The __iter__() method returns the iterator object itself.\n",
    "The __next__() method generates the next Fibonacci number:\n",
    "It checks if the current count is less than the specified number of terms.\n",
    "If so, it returns the current Fibonacci number and updates the values for the next iteration.\n",
    "If the specified number of terms has been reached, it raises a StopIteration exception.\n",
    "In the example usage, the iterator generates and prints the first 10 Fibonacci numbers."
   ]
  },
  {
   "cell_type": "markdown",
   "metadata": {},
   "source": [
    "Q6. Write a generator function in Python that yields the powers of 2 up to a given exponent.\n",
    "\n",
    "Ans: Here’s a generator function in Python that yields the powers of 2 up to a given exponent:"
   ]
  },
  {
   "cell_type": "code",
   "execution_count": null,
   "metadata": {},
   "outputs": [],
   "source": [
    "def powers_of_two(exponent):\n",
    "    for i in range(exponent + 1):\n",
    "        yield 2 ** i\n",
    "\n",
    "# Example usage\n",
    "for power in powers_of_two(5):\n",
    "    print(power)\n"
   ]
  },
  {
   "cell_type": "markdown",
   "metadata": {},
   "source": [
    "Explanation:\n",
    "The function powers_of_two takes an exponent as an argument.\n",
    "It uses a for loop to iterate from 0 to the specified exponent (inclusive).\n",
    "For each iteration, it yields 2 ** i, which calculates the power of 2 for the current value of i.\n",
    "In the example usage, calling powers_of_two(5) generates and prints the powers of 2 from 2**0 to 2**5.\n",
    " "
   ]
  },
  {
   "cell_type": "markdown",
   "metadata": {},
   "source": [
    "Q7. Implement a generator function that reads a file line by line and yields each line as a string.\n",
    "\n",
    "Ans: Here’s a generator function that reads a file line by line and yields each line as a string:"
   ]
  },
  {
   "cell_type": "code",
   "execution_count": null,
   "metadata": {},
   "outputs": [],
   "source": [
    "def read_file_lines(filename):\n",
    "    with open(filename, 'r') as file:\n",
    "        for line in file:\n",
    "            yield line.strip()  # Strip newline characters\n",
    "\n",
    "# Example usage\n",
    "filename = 'example.txt'  # Replace with your filename\n",
    "for line in read_file_lines(filename):\n",
    "    print(line)\n"
   ]
  },
  {
   "cell_type": "markdown",
   "metadata": {},
   "source": [
    "Explanation:\n",
    "The function read_file_lines takes a filename as an argument.\n",
    "It opens the specified file in read mode ('r').\n",
    "The for loop iterates over each line in the file.\n",
    "Each line is yielded after stripping any leading or trailing whitespace (including newline characters).\n",
    "In the example usage, the generator reads lines from example.txt and prints each line. Make sure to replace 'example.txt' with the path to your actual file."
   ]
  },
  {
   "cell_type": "markdown",
   "metadata": {},
   "source": [
    "Q8. Use a lambda function in Python to sort a list of tuples based on the second element of each tuple.\n",
    "\n",
    "Ans: You can use a lambda function in Python to sort a list of tuples based on the second element of each tuple by passing the lambda as the key argument to the sorted() function. Here’s an example:"
   ]
  },
  {
   "cell_type": "code",
   "execution_count": null,
   "metadata": {},
   "outputs": [],
   "source": [
    "# Sample list of tuples\n",
    "data = [(1, 'banana'), (2, 'apple'), (3, 'orange'), (4, 'kiwi')]\n",
    "\n",
    "# Sort the list of tuples based on the second element\n",
    "sorted_data = sorted(data, key=lambda x: x[1])\n",
    "\n",
    "# Print the sorted list\n",
    "print(sorted_data)\n"
   ]
  },
  {
   "cell_type": "markdown",
   "metadata": {},
   "source": [
    "Explanation:\n",
    "The data list contains tuples, each with an integer and a string.\n",
    "The sorted() function is used to sort the list, with the lambda function lambda x: x[1] specifying that sorting should be based on the second element of each tuple (the string).\n",
    "The sorted list is stored in sorted_data and then printed."
   ]
  },
  {
   "cell_type": "markdown",
   "metadata": {},
   "source": [
    "Q9. Write a Python program that uses `map()` to convert a list of temperatures from Celsius to Fahrenheit.\n",
    "\n",
    "Ans: Here's a Python program that uses map() to convert a list of temperatures from Celsius to Fahrenheit:"
   ]
  },
  {
   "cell_type": "code",
   "execution_count": null,
   "metadata": {},
   "outputs": [],
   "source": [
    "def celsius_to_fahrenheit(celsius):\n",
    "    return (celsius * 9/5) + 32\n",
    "\n",
    "# List of temperatures in Celsius\n",
    "celsius_temps = [0, 20, 37, 100]\n",
    "\n",
    "# Using map to convert Celsius to Fahrenheit\n",
    "fahrenheit_temps = list(map(celsius_to_fahrenheit, celsius_temps))\n",
    "\n",
    "# Print the results\n",
    "print(fahrenheit_temps)\n"
   ]
  },
  {
   "cell_type": "markdown",
   "metadata": {},
   "source": [
    "Explanation:\n",
    "The function celsius_to_fahrenheit takes a Celsius temperature and converts it to Fahrenheit using the formula \n",
    "(c*9/5)+32\n",
    "The list celsius_temps contains temperatures in Celsius.\n",
    "The map() function applies the celsius_to_fahrenheit function to each temperature in celsius_temps.\n",
    "The result is converted to a list and stored in fahrenheit_temps, which is then printed."
   ]
  },
  {
   "cell_type": "markdown",
   "metadata": {},
   "source": [
    "Q10. Create a Python program that uses `filter()` to remove all the vowels from a given string.\n",
    "\n",
    "Ans: Here's a Python program that uses filter() to remove all the vowels from a given string:"
   ]
  },
  {
   "cell_type": "code",
   "execution_count": null,
   "metadata": {},
   "outputs": [],
   "source": [
    "def remove_vowels(input_string):\n",
    "    vowels = \"aeiouAEIOU\"  # Define the vowels\n",
    "    return ''.join(filter(lambda char: char not in vowels, input_string))\n",
    "\n",
    "# Example usage\n",
    "input_string = \"Hello, World!\"\n",
    "result = remove_vowels(input_string)\n",
    "print(result)  # Output: Hll, Wrld!\n"
   ]
  },
  {
   "cell_type": "markdown",
   "metadata": {},
   "source": [
    "Explanation:\n",
    "The function remove_vowels takes an input_string as an argument.\n",
    "It defines a string vowels that contains all the vowels (both lowercase and uppercase).\n",
    "The filter() function applies a lambda function that checks if each character is not in the vowels string.\n",
    "The join() method combines the filtered characters back into a single string.\n",
    "The example usage removes vowels from \"Hello, World!\", resulting in \"Hll, Wrld!\"."
   ]
  },
  {
   "cell_type": "markdown",
   "metadata": {},
   "source": [
    "11) Imagine an accounting routine used in a book shop. It works on a list with sublists, which look like this:\n",
    "OrderNumber,Book Title and Author,Quantity,Price per Item\n",
    "34587,Learning Python, Mark Lutz,4,40.95\n",
    "98762,Programming Python, Mark Lutz,5,56.80\n",
    "77226,Head First Python, Paul Barry,3,32.95,\n",
    "88112,Einführung in Python3, Bernd Klein,3,24.99\n",
    "Write a Python program, which returns a list with 2-tuples. Each tuple consists of the order number and the product of the price per item and the quantity. The product should be increased by 10,- € if the value of the order is smaller than 100,00 €.\n",
    "Write a Python program using lambda and map.\n",
    "\n",
    "Ans: Here’s a Python program that processes the given list of orders and returns a list of 2-tuples, where each tuple consists of the order number and the adjusted total price (including the additional €10 if the order value is less than €100)."
   ]
  },
  {
   "cell_type": "code",
   "execution_count": null,
   "metadata": {},
   "outputs": [],
   "source": [
    "# Sample list of orders\n",
    "orders = [\n",
    "    [34587, \"Learning Python, Mark Lutz\", 4, 40.95],\n",
    "    [98762, \"Programming Python, Mark Lutz\", 1, 56.80],\n",
    "    [77226, \"Head First Python, Paul Barry\", 3, 32.95],\n",
    "    [88112, \"Einführung in Python3, Bernd Klein\", 3, 24.99],\n",
    "]\n",
    "\n",
    "# Function to calculate total for each order\n",
    "def calculate_total(order):\n",
    "    order_number = order[0]\n",
    "    quantity = order[2]\n",
    "    price_per_item = order[3]\n",
    "    total = quantity * price_per_item\n",
    "    # Add €10 if total is less than €100\n",
    "    if total < 100:\n",
    "        total += 10\n",
    "    return (order_number, total)\n",
    "\n",
    "# Using map to apply the calculation to each order\n",
    "order_totals = list(map(calculate_total, orders))\n",
    "\n",
    "# Print the result\n",
    "print(order_totals)\n"
   ]
  },
  {
   "cell_type": "markdown",
   "metadata": {},
   "source": [
    "Explanation:\n",
    "Sample List: The orders list contains sublists with order details.\n",
    "Function calculate_total: This function takes an order, extracts the order number, quantity, and price per item, calculates the total, and adds €10 if the total is less than €100.\n",
    "Using map: The map() function applies the calculate_total function to each order in the list.\n",
    "Output: The result is converted to a list of tuples and printed."
   ]
  }
 ],
 "metadata": {
  "language_info": {
   "name": "python"
  }
 },
 "nbformat": 4,
 "nbformat_minor": 2
}
